{
  "nbformat": 4,
  "nbformat_minor": 0,
  "metadata": {
    "colab": {
      "provenance": [],
      "authorship_tag": "ABX9TyPCnhaOPVlC0cJMaJN4td08"
    },
    "kernelspec": {
      "name": "python3",
      "display_name": "Python 3"
    },
    "language_info": {
      "name": "python"
    }
  },
  "cells": [
    {
      "cell_type": "code",
      "execution_count": 1,
      "metadata": {
        "id": "a4rwrKKA__jU"
      },
      "outputs": [],
      "source": [
        "import pandas as pd\n",
        "import nltk\n",
        "import re\n",
        "import string\n",
        "from textblob import TextBlob\n",
        "import numpy as np\n",
        "import gensim\n",
        "import os"
      ]
    },
    {
      "cell_type": "code",
      "source": [
        "nltk.download('stopwords')\n",
        "nltk.download('punkt')"
      ],
      "metadata": {
        "colab": {
          "base_uri": "https://localhost:8080/"
        },
        "id": "Yus4xtsZDdyv",
        "outputId": "50a70604-3213-4a0a-c2ce-ae475f2deba3"
      },
      "execution_count": 3,
      "outputs": [
        {
          "output_type": "stream",
          "name": "stderr",
          "text": [
            "[nltk_data] Downloading package stopwords to /root/nltk_data...\n",
            "[nltk_data]   Unzipping corpora/stopwords.zip.\n",
            "[nltk_data] Downloading package punkt to /root/nltk_data...\n",
            "[nltk_data]   Unzipping tokenizers/punkt.zip.\n"
          ]
        },
        {
          "output_type": "execute_result",
          "data": {
            "text/plain": [
              "True"
            ]
          },
          "metadata": {},
          "execution_count": 3
        }
      ]
    },
    {
      "cell_type": "code",
      "source": [
        "import json\n",
        "with open('intents.json') as file:\n",
        "  dictionary = json.load(file)"
      ],
      "metadata": {
        "colab": {
          "base_uri": "https://localhost:8080/"
        },
        "id": "3QYi9axyDfku",
        "outputId": "646a243e-501e-4c76-aa1a-3ada5d0b6d12"
      },
      "execution_count": 23,
      "outputs": [
        {
          "output_type": "stream",
          "name": "stdout",
          "text": [
            "[{'tag': 'greeting', 'patterns': ['Hello', 'Hi', 'Hey', 'Greetings'], 'responses': ['Hello! How can I assist you today?', 'Hi there! How may I help you?', 'Hey! Welcome. How can I be of service?'], 'context_set': ''}, {'tag': 'goodbye', 'patterns': ['Goodbye', 'Bye', 'See you later', 'Farewell'], 'responses': ['Goodbye! If you have any more questions, feel free to ask.', 'Bye! Have a great day!', 'See you later! Safe travels.'], 'context_set': ''}, {'tag': 'thanks', 'patterns': ['Thank you', 'Thanks', 'Appreciate it'], 'responses': [\"You're welcome! If you need anything else, feel free to ask.\", \"No problem! Let me know if there's anything else I can do for you.\", 'Glad I could help! If you have more questions, just ask.'], 'context_set': ''}, {'tag': 'help', 'patterns': ['Help', 'Assistance', 'Can you help me?'], 'responses': [\"Of course! I'm here to assist you. What do you need help with?\", 'Certainly! What can I help you with today?', \"Sure, I'm here to help. What do you require assistance with?\"], 'context_set': ''}, {'tag': 'book_hotel', 'patterns': ['Book a hotel', 'Reserve a room', 'Hotel booking', 'I want to book a room'], 'responses': ['Great choice! I can help you with hotel reservations. When and where would you like to book?', 'Sure thing! To assist you better, could you provide the check-in and check-out dates?', \"Absolutely! Let's get started with your hotel booking. When are you planning to check in?\"], 'context_set': ''}, {'tag': 'cancel_reservation', 'patterns': ['Cancel reservation', 'I want to cancel my booking', 'Cancel my reservation'], 'responses': ['I understand. To proceed with the cancellation, could you please provide your booking details?', \"Certainly. To cancel your reservation, I'll need some information. Can you provide your booking reference number?\", \"I'm sorry to hear that. To cancel your booking, please provide the necessary details such as your reservation ID.\"], 'context_set': ''}, {'tag': 'check_availability', 'patterns': ['Check room availability', 'Are there any rooms available?', 'What rooms do you have?'], 'responses': [\"Sure, let me check the availability for you. Could you please specify the dates you're interested in?\", 'Certainly! To assist you with room availability, may I know the check-in and check-out dates?', \"Of course. To check room availability, please provide the dates you're looking for.\"], 'context_set': ''}, {'tag': 'modify_reservation', 'patterns': ['Modify reservation', 'Change booking details', 'Update reservation'], 'responses': ['Certainly, I can help you modify your reservation. What changes would you like to make?', \"Sure thing! To update your reservation, please let me know the details you'd like to change.\", 'No problem. Let me assist you in modifying your reservation. What changes do you have in mind?'], 'context_set': ''}, {'tag': 'get_confirmation', 'patterns': ['Get booking confirmation', 'Can I have my reservation details?', 'Send me a confirmation email'], 'responses': [\"Certainly! I'll send you a confirmation email shortly with all the details of your reservation.\", 'Sure, I can provide you with a confirmation email. May I know the email address to send it to?', 'Of course! To get your booking confirmation, could you please provide your reservation ID?'], 'context_set': ''}, {'tag': 'pricing_info', 'patterns': ['How much does a room cost?', 'Tell me about your prices', 'What is the rate for a night?'], 'responses': ['The room rates vary based on the dates and room type. Could you specify your check-in and check-out dates?', 'Certainly! The pricing depends on the dates of your stay and the type of room. When are you planning to check in?', \"To provide you with accurate pricing, I'll need to know your check-in and check-out dates. Could you please provide them?\"], 'context_set': ''}, {'tag': 'amenities', 'patterns': ['Tell me about hotel amenities', 'What facilities do you have?', 'List hotel services'], 'responses': ['Our hotel offers a range of amenities, including [list of amenities]. Is there anything specific you would like to know more about?', \"Certainly! We have various amenities such as [list of amenities]. Is there something specific you're interested in?\", \"Sure, our hotel provides amenities like [list of amenities]. Anything particular you'd like more information on?\"], 'context_set': ''}, {'tag': 'feedback', 'patterns': ['Leave feedback', 'Provide a review', 'I want to share my experience'], 'responses': ['We appreciate your feedback! Feel free to share your experience, and let us know how we can improve.', 'Thank you for your feedback! We value your input. Please share your experience and any suggestions you may have.', 'Your feedback is important to us! Please share your thoughts on your experience with our hotel.'], 'context_set': ''}]\n"
          ]
        }
      ]
    },
    {
      "cell_type": "code",
      "source": [
        "data = pd.DataFrame(dictionary['intents'])\n",
        "def toString(arr):\n",
        "  info = \"\"\n",
        "  for elements in arr:\n",
        "    info += elements +\" \"\n",
        "  return info\n",
        "\n",
        "data['patterns']=data['patterns'].apply(toString)\n",
        "print(data)"
      ],
      "metadata": {
        "colab": {
          "base_uri": "https://localhost:8080/"
        },
        "id": "RZOk8SPvFItP",
        "outputId": "c15d7359-6cf8-44e9-b7a0-f22437daca69"
      },
      "execution_count": 24,
      "outputs": [
        {
          "output_type": "stream",
          "name": "stdout",
          "text": [
            "                   tag                                           patterns  \\\n",
            "0             greeting                            Hello Hi Hey Greetings    \n",
            "1              goodbye                Goodbye Bye See you later Farewell    \n",
            "2               thanks                    Thank you Thanks Appreciate it    \n",
            "3                 help                  Help Assistance Can you help me?    \n",
            "4           book_hotel  Book a hotel Reserve a room Hotel booking I wa...   \n",
            "5   cancel_reservation  Cancel reservation I want to cancel my booking...   \n",
            "6   check_availability  Check room availability Are there any rooms av...   \n",
            "7   modify_reservation  Modify reservation Change booking details Upda...   \n",
            "8     get_confirmation  Get booking confirmation Can I have my reserva...   \n",
            "9         pricing_info  How much does a room cost? Tell me about your ...   \n",
            "10           amenities  Tell me about hotel amenities What facilities ...   \n",
            "11            feedback  Leave feedback Provide a review I want to shar...   \n",
            "\n",
            "                                            responses context_set  \n",
            "0   [Hello! How can I assist you today?, Hi there!...              \n",
            "1   [Goodbye! If you have any more questions, feel...              \n",
            "2   [You're welcome! If you need anything else, fe...              \n",
            "3   [Of course! I'm here to assist you. What do yo...              \n",
            "4   [Great choice! I can help you with hotel reser...              \n",
            "5   [I understand. To proceed with the cancellatio...              \n",
            "6   [Sure, let me check the availability for you. ...              \n",
            "7   [Certainly, I can help you modify your reserva...              \n",
            "8   [Certainly! I'll send you a confirmation email...              \n",
            "9   [The room rates vary based on the dates and ro...              \n",
            "10  [Our hotel offers a range of amenities, includ...              \n",
            "11  [We appreciate your feedback! Feel free to sha...              \n"
          ]
        }
      ]
    },
    {
      "cell_type": "code",
      "source": [
        "from nltk.corpus import stopwords\n",
        "\n",
        "def remove_punc(text):\n",
        "  exclude = set(string.punctuation)\n",
        "  for char in exclude:\n",
        "    text = text.replace(char,'')\n",
        "  return text\n",
        "\n",
        "def stop(text):\n",
        "  new = []\n",
        "  sw = stopwords.words('english')\n",
        "  for words in text.split():\n",
        "    if words in sw:\n",
        "      new.append('')\n",
        "    else:\n",
        "      new.append(words)\n",
        "  x = new[:]\n",
        "  new.clear()\n",
        "  return \" \".join(x)\n",
        "\n",
        "\n",
        "data['patterns']=data['patterns'].str.lower()\n",
        "data['patterns']=data['patterns'].apply(remove_punc)\n",
        "data['patterns']=data['patterns'].apply(stop)\n",
        "\n",
        "print(data['patterns'])"
      ],
      "metadata": {
        "colab": {
          "base_uri": "https://localhost:8080/"
        },
        "id": "YT49TJ3IH_he",
        "outputId": "7e0b761c-5ed0-4811-e54a-9dac9ea6e8af"
      },
      "execution_count": 25,
      "outputs": [
        {
          "output_type": "stream",
          "name": "stdout",
          "text": [
            "0                                hello hi hey greetings\n",
            "1                       goodbye bye see  later farewell\n",
            "2                             thank  thanks appreciate \n",
            "3                               help assistance   help \n",
            "4     book  hotel reserve  room hotel booking  want ...\n",
            "5     cancel reservation  want  cancel  booking canc...\n",
            "6     check room availability    rooms available  ro...\n",
            "7     modify reservation change booking details upda...\n",
            "8     get booking confirmation     reservation detai...\n",
            "9       much   room cost tell    prices    rate   night\n",
            "10    tell   hotel amenities  facilities    list hot...\n",
            "11    leave feedback provide  review  want  share  e...\n",
            "Name: patterns, dtype: object\n"
          ]
        }
      ]
    },
    {
      "cell_type": "code",
      "source": [
        "from sklearn.feature_extraction.text import CountVectorizer\n",
        "cv = CountVectorizer(ngram_range=(1,2))\n",
        "new = cv.fit_transform(data['patterns']).toarray()"
      ],
      "metadata": {
        "id": "Lta7LXMWFwav"
      },
      "execution_count": 122,
      "outputs": []
    },
    {
      "cell_type": "code",
      "source": [
        "from keras import Sequential\n",
        "from keras.layers import Dense\n",
        "output = [0,1,2,3,4,5,6,7,8,9,10,11]\n",
        "\n",
        "model = Sequential()\n",
        "model.add(Dense(8,input_shape=new[0].shape))\n",
        "model.add(Dense(8))\n",
        "model.add(Dense(8))\n",
        "model.add(Dense(len(output),activation='softmax'))"
      ],
      "metadata": {
        "id": "PJ2Nz029xJVz"
      },
      "execution_count": 128,
      "outputs": []
    },
    {
      "cell_type": "code",
      "source": [
        "model.summary()\n",
        "model.compile(optimizer=\"Adam\", loss = 'sparse_categorical_crossentropy',metrics=[\"accuracy\"])"
      ],
      "metadata": {
        "colab": {
          "base_uri": "https://localhost:8080/"
        },
        "id": "hH7Jr67WyLuD",
        "outputId": "b46da6aa-0152-456f-b46b-546608420fa6"
      },
      "execution_count": 129,
      "outputs": [
        {
          "output_type": "stream",
          "name": "stdout",
          "text": [
            "Model: \"sequential\"\n",
            "_________________________________________________________________\n",
            " Layer (type)                Output Shape              Param #   \n",
            "=================================================================\n",
            " dense (Dense)               (None, 8)                 888       \n",
            "                                                                 \n",
            " dense_1 (Dense)             (None, 8)                 72        \n",
            "                                                                 \n",
            " dense_2 (Dense)             (None, 8)                 72        \n",
            "                                                                 \n",
            " dense_3 (Dense)             (None, 12)                108       \n",
            "                                                                 \n",
            "=================================================================\n",
            "Total params: 1140 (4.45 KB)\n",
            "Trainable params: 1140 (4.45 KB)\n",
            "Non-trainable params: 0 (0.00 Byte)\n",
            "_________________________________________________________________\n"
          ]
        }
      ]
    },
    {
      "cell_type": "code",
      "source": [
        "model.fit(new,np.array(output),batch_size = 1,epochs =25)"
      ],
      "metadata": {
        "colab": {
          "base_uri": "https://localhost:8080/"
        },
        "id": "y8SgGxvez0Ys",
        "outputId": "86d445c1-819b-46ff-c0a7-26b445d107c7"
      },
      "execution_count": 130,
      "outputs": [
        {
          "output_type": "stream",
          "name": "stdout",
          "text": [
            "Train on 12 samples\n",
            "Epoch 1/25\n",
            "12/12 [==============================] - 0s 2ms/sample - loss: 2.6115 - acc: 0.0000e+00\n",
            "Epoch 2/25\n",
            "12/12 [==============================] - 0s 1ms/sample - loss: 2.5212 - acc: 0.0000e+00\n",
            "Epoch 3/25\n",
            "12/12 [==============================] - 0s 2ms/sample - loss: 2.4337 - acc: 0.0000e+00\n",
            "Epoch 4/25\n",
            "12/12 [==============================] - 0s 1ms/sample - loss: 2.3536 - acc: 0.1667\n",
            "Epoch 5/25\n",
            "12/12 [==============================] - 0s 1ms/sample - loss: 2.2834 - acc: 0.3333\n",
            "Epoch 6/25\n",
            "12/12 [==============================] - 0s 1ms/sample - loss: 2.2069 - acc: 0.4167\n",
            "Epoch 7/25\n",
            "12/12 [==============================] - 0s 2ms/sample - loss: 2.1313 - acc: 0.4167\n",
            "Epoch 8/25\n",
            "12/12 [==============================] - 0s 2ms/sample - loss: 2.0561 - acc: 0.4167\n",
            "Epoch 9/25\n",
            "12/12 [==============================] - 0s 1ms/sample - loss: 1.9839 - acc: 0.4167\n",
            "Epoch 10/25\n",
            "12/12 [==============================] - 0s 1ms/sample - loss: 1.9118 - acc: 0.4167\n",
            "Epoch 11/25\n",
            "12/12 [==============================] - 0s 2ms/sample - loss: 1.8328 - acc: 0.6667\n",
            "Epoch 12/25\n",
            "12/12 [==============================] - 0s 2ms/sample - loss: 1.7554 - acc: 0.6667\n",
            "Epoch 13/25\n",
            "12/12 [==============================] - 0s 2ms/sample - loss: 1.6890 - acc: 0.6667\n",
            "Epoch 14/25\n",
            "12/12 [==============================] - 0s 2ms/sample - loss: 1.6174 - acc: 0.6667\n",
            "Epoch 15/25\n",
            "12/12 [==============================] - 0s 2ms/sample - loss: 1.5515 - acc: 0.6667\n",
            "Epoch 16/25\n",
            "12/12 [==============================] - 0s 2ms/sample - loss: 1.4817 - acc: 0.6667\n",
            "Epoch 17/25\n",
            "12/12 [==============================] - 0s 2ms/sample - loss: 1.4168 - acc: 0.7500\n",
            "Epoch 18/25\n",
            "12/12 [==============================] - 0s 2ms/sample - loss: 1.3559 - acc: 0.7500\n",
            "Epoch 19/25\n",
            "12/12 [==============================] - 0s 2ms/sample - loss: 1.2971 - acc: 0.7500\n",
            "Epoch 20/25\n",
            "12/12 [==============================] - 0s 2ms/sample - loss: 1.2405 - acc: 0.7500\n",
            "Epoch 21/25\n",
            "12/12 [==============================] - 0s 2ms/sample - loss: 1.1808 - acc: 0.7500\n",
            "Epoch 22/25\n",
            "12/12 [==============================] - 0s 2ms/sample - loss: 1.1267 - acc: 0.7500\n",
            "Epoch 23/25\n",
            "12/12 [==============================] - 0s 2ms/sample - loss: 1.0726 - acc: 0.7500\n",
            "Epoch 24/25\n",
            "12/12 [==============================] - 0s 2ms/sample - loss: 1.0148 - acc: 0.8333\n",
            "Epoch 25/25\n",
            "12/12 [==============================] - 0s 2ms/sample - loss: 0.9647 - acc: 0.8333\n"
          ]
        },
        {
          "output_type": "execute_result",
          "data": {
            "text/plain": [
              "<keras.src.callbacks.History at 0x7cac32da2b00>"
            ]
          },
          "metadata": {},
          "execution_count": 130
        }
      ]
    },
    {
      "cell_type": "code",
      "source": [
        "import random\n",
        "message = \"Can you update reservation\"\n",
        "test = cv.transform([message])\n",
        "results = model.predict(test.toarray())\n",
        "tag = data['tag'][np.argmax(results)]\n",
        "resp = data.index[data['tag']==tag].tolist()[0]\n",
        "print(random.choice(data['responses'][resp]))"
      ],
      "metadata": {
        "colab": {
          "base_uri": "https://localhost:8080/"
        },
        "id": "Yy7HXpWXQtqo",
        "outputId": "0e209ffa-3e25-451b-d9cb-201e125ae2eb"
      },
      "execution_count": 137,
      "outputs": [
        {
          "output_type": "stream",
          "name": "stdout",
          "text": [
            "No problem. Let me assist you in modifying your reservation. What changes do you have in mind?\n"
          ]
        }
      ]
    }
  ]
}