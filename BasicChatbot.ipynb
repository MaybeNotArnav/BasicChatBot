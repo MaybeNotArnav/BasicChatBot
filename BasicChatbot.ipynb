{
  "cells": [
    {
      "cell_type": "code",
      "execution_count": 158,
      "metadata": {
        "id": "a4rwrKKA__jU"
      },
      "outputs": [],
      "source": [
        "import pandas as pd\n",
        "import nltk\n",
        "import re\n",
        "import string\n",
        "from textblob import TextBlob\n",
        "import numpy as np\n",
        "import gensim\n",
        "import os"
      ]
    },
    {
      "cell_type": "code",
      "execution_count": 111,
      "metadata": {
        "colab": {
          "base_uri": "https://localhost:8080/",
          "height": 567
        },
        "id": "zB4nO__yNvMe",
        "outputId": "1a9fafaa-7242-4ff5-c9d9-6ff0c6142d4a"
      },
      "outputs": [
        {
          "name": "stdout",
          "output_type": "stream",
          "text": [
            "Found existing installation: tflearn 0.5.0\n",
            "Uninstalling tflearn-0.5.0:\n",
            "  Would remove:\n",
            "    /usr/local/lib/python3.10/dist-packages/tflearn-0.5.0.dist-info/*\n",
            "    /usr/local/lib/python3.10/dist-packages/tflearn/*\n",
            "Proceed (Y/n)? y\n",
            "  Successfully uninstalled tflearn-0.5.0\n",
            "Collecting git+https://github.com/MihaMarkic/tflearn.git@fix/is_sequence_missing\n",
            "  Cloning https://github.com/MihaMarkic/tflearn.git (to revision fix/is_sequence_missing) to /tmp/pip-req-build-mw37fnin\n",
            "  Running command git clone --filter=blob:none --quiet https://github.com/MihaMarkic/tflearn.git /tmp/pip-req-build-mw37fnin\n",
            "  Running command git checkout -b fix/is_sequence_missing --track origin/fix/is_sequence_missing\n",
            "  Switched to a new branch 'fix/is_sequence_missing'\n",
            "  Branch 'fix/is_sequence_missing' set up to track remote branch 'fix/is_sequence_missing' from 'origin'.\n",
            "  Resolved https://github.com/MihaMarkic/tflearn.git to commit 6472b8588e758ff4a33a2764d4ee638bbd0e42f0\n",
            "  Preparing metadata (setup.py) ... \u001b[?25l\u001b[?25hdone\n",
            "Requirement already satisfied: numpy in /usr/local/lib/python3.10/dist-packages (from tflearn==0.5.0) (1.25.2)\n",
            "Requirement already satisfied: six in /usr/local/lib/python3.10/dist-packages (from tflearn==0.5.0) (1.16.0)\n",
            "Requirement already satisfied: Pillow in /usr/local/lib/python3.10/dist-packages (from tflearn==0.5.0) (9.4.0)\n",
            "Building wheels for collected packages: tflearn\n",
            "  Building wheel for tflearn (setup.py) ... \u001b[?25l\u001b[?25hdone\n",
            "  Created wheel for tflearn: filename=tflearn-0.5.0-py3-none-any.whl size=130659 sha256=4ed40784dc7f1ff14ba6f0b54f08ada1e6c211b9b314f494eb5e745d30071051\n",
            "  Stored in directory: /tmp/pip-ephem-wheel-cache-mnfvyegl/wheels/4d/8c/0c/2159783f8dfd53bdaf4e59cd3990607ac8d5d912ae6de88296\n",
            "Successfully built tflearn\n",
            "Installing collected packages: tflearn\n",
            "Successfully installed tflearn-0.5.0\n"
          ]
        },
        {
          "data": {
            "application/vnd.colab-display-data+json": {
              "pip_warning": {
                "packages": [
                  "tflearn"
                ]
              }
            }
          },
          "metadata": {},
          "output_type": "display_data"
        }
      ],
      "source": [
        "!pip uninstall tflearn\n",
        "!pip install git+https://github.com/MihaMarkic/tflearn.git@fix/is_sequence_missing"
      ]
    },
    {
      "cell_type": "code",
      "execution_count": 106,
      "metadata": {
        "colab": {
          "base_uri": "https://localhost:8080/"
        },
        "id": "Yus4xtsZDdyv",
        "outputId": "9276809f-c45d-4942-a749-48d7bc624b8f"
      },
      "outputs": [
        {
          "name": "stderr",
          "output_type": "stream",
          "text": [
            "[nltk_data] Downloading package stopwords to /root/nltk_data...\n",
            "[nltk_data]   Package stopwords is already up-to-date!\n",
            "[nltk_data] Downloading package punkt to /root/nltk_data...\n",
            "[nltk_data]   Package punkt is already up-to-date!\n"
          ]
        },
        {
          "data": {
            "text/plain": [
              "True"
            ]
          },
          "execution_count": 106,
          "metadata": {},
          "output_type": "execute_result"
        }
      ],
      "source": [
        "nltk.download('stopwords')\n",
        "nltk.download('punkt')"
      ]
    },
    {
      "cell_type": "code",
      "execution_count": 107,
      "metadata": {
        "colab": {
          "base_uri": "https://localhost:8080/"
        },
        "id": "3QYi9axyDfku",
        "outputId": "719022e8-4889-48f8-e8c3-eb6dffae4bb4"
      },
      "outputs": [
        {
          "name": "stdout",
          "output_type": "stream",
          "text": [
            "[{'tag': 'greeting', 'patterns': ['Hello', 'Hi', 'Hey', 'Greetings'], 'responses': ['Hello! How can I assist you today?', 'Hi there! How may I help you?', 'Hey! Welcome. How can I be of service?'], 'context_set': ''}, {'tag': 'goodbye', 'patterns': ['Goodbye', 'Bye', 'See you later', 'Farewell'], 'responses': ['Goodbye! If you have any more questions, feel free to ask.', 'Bye! Have a great day!', 'See you later! Safe travels.'], 'context_set': ''}, {'tag': 'thanks', 'patterns': ['Thank you', 'Thanks', 'Appreciate it'], 'responses': [\"You're welcome! If you need anything else, feel free to ask.\", \"No problem! Let me know if there's anything else I can do for you.\", 'Glad I could help! If you have more questions, just ask.'], 'context_set': ''}, {'tag': 'help', 'patterns': ['Help', 'Assistance', 'Can you help me?'], 'responses': [\"Of course! I'm here to assist you. What do you need help with?\", 'Certainly! What can I help you with today?', \"Sure, I'm here to help. What do you require assistance with?\"], 'context_set': ''}, {'tag': 'book_hotel', 'patterns': ['Book a hotel', 'Reserve a room', 'Hotel booking', 'I want to book a room'], 'responses': ['Great choice! I can help you with hotel reservations. When and where would you like to book?', 'Sure thing! To assist you better, could you provide the check-in and check-out dates?', \"Absolutely! Let's get started with your hotel booking. When are you planning to check in?\"], 'context_set': ''}, {'tag': 'cancel_reservation', 'patterns': ['Cancel reservation', 'I want to cancel my booking', 'Cancel my reservation'], 'responses': ['I understand. To proceed with the cancellation, could you please provide your booking details?', \"Certainly. To cancel your reservation, I'll need some information. Can you provide your booking reference number?\", \"I'm sorry to hear that. To cancel your booking, please provide the necessary details such as your reservation ID.\"], 'context_set': ''}, {'tag': 'check_availability', 'patterns': ['Check room availability', 'Are there any rooms available?', 'What rooms do you have?'], 'responses': [\"Sure, let me check the availability for you. Could you please specify the dates you're interested in?\", 'Certainly! To assist you with room availability, may I know the check-in and check-out dates?', \"Of course. To check room availability, please provide the dates you're looking for.\"], 'context_set': ''}, {'tag': 'modify_reservation', 'patterns': ['Modify reservation', 'Change booking details', 'Update reservation'], 'responses': ['Certainly, I can help you modify your reservation. What changes would you like to make?', \"Sure thing! To update your reservation, please let me know the details you'd like to change.\", 'No problem. Let me assist you in modifying your reservation. What changes do you have in mind?'], 'context_set': ''}, {'tag': 'get_confirmation', 'patterns': ['Get booking confirmation', 'Can I have my reservation details?', 'Send me a confirmation email'], 'responses': [\"Certainly! I'll send you a confirmation email shortly with all the details of your reservation.\", 'Sure, I can provide you with a confirmation email. May I know the email address to send it to?', 'Of course! To get your booking confirmation, could you please provide your reservation ID?'], 'context_set': ''}, {'tag': 'pricing_info', 'patterns': ['How much does a room cost?', 'Tell me about your prices', 'What is the rate for a night?'], 'responses': ['The room rates vary based on the dates and room type. Could you specify your check-in and check-out dates?', 'Certainly! The pricing depends on the dates of your stay and the type of room. When are you planning to check in?', \"To provide you with accurate pricing, I'll need to know your check-in and check-out dates. Could you please provide them?\"], 'context_set': ''}, {'tag': 'amenities', 'patterns': ['Tell me about hotel amenities', 'What facilities do you have?', 'List hotel services'], 'responses': ['Our hotel offers a range of amenities, including [list of amenities]. Is there anything specific you would like to know more about?', \"Certainly! We have various amenities such as [list of amenities]. Is there something specific you're interested in?\", \"Sure, our hotel provides amenities like [list of amenities]. Anything particular you'd like more information on?\"], 'context_set': ''}, {'tag': 'feedback', 'patterns': ['Leave feedback', 'Provide a review', 'I want to share my experience'], 'responses': ['We appreciate your feedback! Feel free to share your experience, and let us know how we can improve.', 'Thank you for your feedback! We value your input. Please share your experience and any suggestions you may have.', 'Your feedback is important to us! Please share your thoughts on your experience with our hotel.'], 'context_set': ''}]\n"
          ]
        }
      ],
      "source": [
        "import json\n",
        "with open('intents.json') as file:\n",
        "  dictionary = json.load(file)\n",
        "\n",
        "print(dictionary['intents'])"
      ]
    },
    {
      "cell_type": "code",
      "execution_count": 108,
      "metadata": {
        "colab": {
          "base_uri": "https://localhost:8080/"
        },
        "id": "RZOk8SPvFItP",
        "outputId": "abdd568d-1d58-4399-d243-74b51f82600b"
      },
      "outputs": [
        {
          "name": "stdout",
          "output_type": "stream",
          "text": [
            "                   tag                                           patterns  \\\n",
            "0             greeting                            Hello Hi Hey Greetings    \n",
            "1              goodbye                Goodbye Bye See you later Farewell    \n",
            "2               thanks                    Thank you Thanks Appreciate it    \n",
            "3                 help                  Help Assistance Can you help me?    \n",
            "4           book_hotel  Book a hotel Reserve a room Hotel booking I wa...   \n",
            "5   cancel_reservation  Cancel reservation I want to cancel my booking...   \n",
            "6   check_availability  Check room availability Are there any rooms av...   \n",
            "7   modify_reservation  Modify reservation Change booking details Upda...   \n",
            "8     get_confirmation  Get booking confirmation Can I have my reserva...   \n",
            "9         pricing_info  How much does a room cost? Tell me about your ...   \n",
            "10           amenities  Tell me about hotel amenities What facilities ...   \n",
            "11            feedback  Leave feedback Provide a review I want to shar...   \n",
            "\n",
            "                                            responses context_set  \n",
            "0   [Hello! How can I assist you today?, Hi there!...              \n",
            "1   [Goodbye! If you have any more questions, feel...              \n",
            "2   [You're welcome! If you need anything else, fe...              \n",
            "3   [Of course! I'm here to assist you. What do yo...              \n",
            "4   [Great choice! I can help you with hotel reser...              \n",
            "5   [I understand. To proceed with the cancellatio...              \n",
            "6   [Sure, let me check the availability for you. ...              \n",
            "7   [Certainly, I can help you modify your reserva...              \n",
            "8   [Certainly! I'll send you a confirmation email...              \n",
            "9   [The room rates vary based on the dates and ro...              \n",
            "10  [Our hotel offers a range of amenities, includ...              \n",
            "11  [We appreciate your feedback! Feel free to sha...              \n"
          ]
        }
      ],
      "source": [
        "data = pd.DataFrame(dictionary['intents'])\n",
        "def toString(arr):\n",
        "  info = \"\"\n",
        "  for elements in arr:\n",
        "    info += elements +\" \"\n",
        "  return info\n",
        "\n",
        "data['patterns']=data['patterns'].apply(toString)\n",
        "print(data)"
      ]
    },
    {
      "cell_type": "code",
      "execution_count": 109,
      "metadata": {
        "colab": {
          "base_uri": "https://localhost:8080/"
        },
        "id": "YT49TJ3IH_he",
        "outputId": "02a94909-3340-4718-e922-cc4324974bf8"
      },
      "outputs": [
        {
          "name": "stdout",
          "output_type": "stream",
          "text": [
            "0                                hello hi hey greetings\n",
            "1                       goodbye bye see  later farewell\n",
            "2                             thank  thanks appreciate \n",
            "3                               help assistance   help \n",
            "4     book  hotel reserve  room hotel booking  want ...\n",
            "5     cancel reservation  want  cancel  booking canc...\n",
            "6     check room availability    rooms available  ro...\n",
            "7     modify reservation change booking details upda...\n",
            "8     get booking confirmation     reservation detai...\n",
            "9       much   room cost tell    prices    rate   night\n",
            "10    tell   hotel amenities  facilities    list hot...\n",
            "11    leave feedback provide  review  want  share  e...\n",
            "Name: patterns, dtype: object\n"
          ]
        }
      ],
      "source": [
        "from nltk.corpus import stopwords\n",
        "\n",
        "def remove_punc(text):\n",
        "  exclude = set(string.punctuation)\n",
        "  for char in exclude:\n",
        "    text = text.replace(char,'')\n",
        "  return text\n",
        "\n",
        "def stop(text):\n",
        "  new = []\n",
        "  sw = stopwords.words('english')\n",
        "  for words in text.split():\n",
        "    if words in sw:\n",
        "      new.append('')\n",
        "    else:\n",
        "      new.append(words)\n",
        "  x = new[:]\n",
        "  new.clear()\n",
        "  return \" \".join(x)\n",
        "\n",
        "\n",
        "data['patterns']=data['patterns'].str.lower()\n",
        "data['patterns']=data['patterns'].apply(remove_punc)\n",
        "data['patterns']=data['patterns'].apply(stop)\n",
        "\n",
        "print(data['patterns'])"
      ]
    },
    {
      "cell_type": "code",
      "execution_count": null,
      "metadata": {
        "colab": {
          "base_uri": "https://localhost:8080/"
        },
        "id": "Lta7LXMWFwav",
        "outputId": "7640d404-99f4-4746-e25e-1b9a549d3d46"
      },
      "outputs": [],
      "source": [
        "from sklearn.feature_extraction.text import CountVectorizer\n",
        "cv = CountVectorizer(ngram_range=(1,1))\n",
        "new = cv.fit_transform(data['patterns']).toarray()"
      ]
    },
    {
      "cell_type": "code",
      "execution_count": 133,
      "metadata": {
        "id": "-IqAUlsINV62"
      },
      "outputs": [],
      "source": [
        "import tflearn\n",
        "import tensorflow as tf\n",
        "output = []\n",
        "for tag in data['tag']:\n",
        "  row=[0 for _ in range(len(data['tag']))]\n",
        "  row[data.index[data['tag']==tag].tolist()[0]]=1\n",
        "  output.append(row)\n",
        "\n",
        "tf.compat.v1.reset_default_graph()\n",
        "net = tflearn.input_data(shape = [None,len(new[0])])\n",
        "net = tflearn.fully_connected(net,8)\n",
        "net = tflearn.fully_connected(net,8)\n",
        "net = tflearn.fully_connected(net,len(output[0]),activation=\"softmax\")\n",
        "net = tflearn.regression(net)\n",
        "\n",
        "model = tflearn.DNN(net)"
      ]
    },
    {
      "cell_type": "code",
      "execution_count": 104,
      "metadata": {
        "colab": {
          "base_uri": "https://localhost:8080/"
        },
        "id": "QJ6G84gmTsNO",
        "outputId": "788a2cd7-780d-4f6e-f999-48c34af178cc"
      },
      "outputs": [
        {
          "name": "stdout",
          "output_type": "stream",
          "text": [
            "50\n",
            "12\n"
          ]
        }
      ],
      "source": [
        "print(len(new[0]))\n",
        "print(len(output[0]))"
      ]
    },
    {
      "cell_type": "code",
      "execution_count": 134,
      "metadata": {
        "colab": {
          "base_uri": "https://localhost:8080/"
        },
        "id": "LMpEiVYRQfc2",
        "outputId": "89f88c6a-4a69-4e7a-d62b-dd4df66c4e3d"
      },
      "outputs": [
        {
          "name": "stdout",
          "output_type": "stream",
          "text": [
            "Training Step: 1199  | total loss: \u001b[1m\u001b[32m0.60687\u001b[0m\u001b[0m | time: 0.072s\n",
            "| Adam | epoch: 100 | loss: 0.60687 - acc: 0.7507 -- iter: 11/12\n",
            "Training Step: 1200  | total loss: \u001b[1m\u001b[32m0.58937\u001b[0m\u001b[0m | time: 0.087s\n",
            "| Adam | epoch: 100 | loss: 0.58937 - acc: 0.7757 -- iter: 12/12\n",
            "--\n"
          ]
        }
      ],
      "source": [
        "model.fit(new,output,n_epoch = 100,batch_size = 1,show_metric = True)"
      ]
    },
    {
      "cell_type": "code",
      "execution_count": 157,
      "metadata": {
        "colab": {
          "base_uri": "https://localhost:8080/"
        },
        "id": "Yy7HXpWXQtqo",
        "outputId": "bd40570d-aee9-469d-f71b-7479014cd5c9"
      },
      "outputs": [
        {
          "name": "stdout",
          "output_type": "stream",
          "text": [
            "Certainly! To assist you with room availability, may I know the check-in and check-out dates?\n"
          ]
        }
      ],
      "source": [
        "import random\n",
        "message = \"Rooms available?\"\n",
        "test = cv.transform([message])\n",
        "results = model.predict(test.toarray())\n",
        "tag = data['tag'][np.argmax(results)]\n",
        "resp = data.index[data['tag']==tag].tolist()[0]\n",
        "print(random.choice(data['responses'][resp]))"
      ]
    }
  ],
  "metadata": {
    "colab": {
      "provenance": []
    },
    "kernelspec": {
      "display_name": "Python 3",
      "name": "python3"
    },
    "language_info": {
      "name": "python"
    }
  },
  "nbformat": 4,
  "nbformat_minor": 0
}
